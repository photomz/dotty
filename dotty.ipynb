{
 "cells": [
  {
   "cell_type": "code",
   "execution_count": 1,
   "metadata": {},
   "outputs": [],
   "source": [
    "import torch, os"
   ]
  },
  {
   "cell_type": "code",
   "execution_count": 2,
   "metadata": {},
   "outputs": [
    {
     "data": {
      "text/plain": [
       "'/Users/markuszhang/Downloads/roberta_base_lora_mnli.bin'"
      ]
     },
     "execution_count": 2,
     "metadata": {},
     "output_type": "execute_result"
    }
   ],
   "source": [
    "path = os.path.expanduser(\"~/Downloads/\")\n",
    "os.listdir(path)\n",
    "split_num = 1\n",
    "pth = path + \"roberta_base_lora_mnli.bin\"\n",
    "pth"
   ]
  },
  {
   "cell_type": "code",
   "execution_count": 3,
   "metadata": {},
   "outputs": [
    {
     "data": {
      "text/plain": [
       "{'roberta.encoder.layer.0.attention.self.query.lora_A': torch.Size([8, 768]),\n",
       " 'roberta.encoder.layer.0.attention.self.query.lora_B': torch.Size([768, 8]),\n",
       " 'roberta.encoder.layer.0.attention.self.value.lora_A': torch.Size([8, 768]),\n",
       " 'roberta.encoder.layer.0.attention.self.value.lora_B': torch.Size([768, 8]),\n",
       " 'roberta.encoder.layer.1.attention.self.query.lora_A': torch.Size([8, 768]),\n",
       " 'roberta.encoder.layer.1.attention.self.query.lora_B': torch.Size([768, 8]),\n",
       " 'roberta.encoder.layer.1.attention.self.value.lora_A': torch.Size([8, 768]),\n",
       " 'roberta.encoder.layer.1.attention.self.value.lora_B': torch.Size([768, 8]),\n",
       " 'roberta.encoder.layer.2.attention.self.query.lora_A': torch.Size([8, 768]),\n",
       " 'roberta.encoder.layer.2.attention.self.query.lora_B': torch.Size([768, 8]),\n",
       " 'roberta.encoder.layer.2.attention.self.value.lora_A': torch.Size([8, 768]),\n",
       " 'roberta.encoder.layer.2.attention.self.value.lora_B': torch.Size([768, 8]),\n",
       " 'roberta.encoder.layer.3.attention.self.query.lora_A': torch.Size([8, 768]),\n",
       " 'roberta.encoder.layer.3.attention.self.query.lora_B': torch.Size([768, 8]),\n",
       " 'roberta.encoder.layer.3.attention.self.value.lora_A': torch.Size([8, 768]),\n",
       " 'roberta.encoder.layer.3.attention.self.value.lora_B': torch.Size([768, 8]),\n",
       " 'roberta.encoder.layer.4.attention.self.query.lora_A': torch.Size([8, 768]),\n",
       " 'roberta.encoder.layer.4.attention.self.query.lora_B': torch.Size([768, 8]),\n",
       " 'roberta.encoder.layer.4.attention.self.value.lora_A': torch.Size([8, 768]),\n",
       " 'roberta.encoder.layer.4.attention.self.value.lora_B': torch.Size([768, 8]),\n",
       " 'roberta.encoder.layer.5.attention.self.query.lora_A': torch.Size([8, 768]),\n",
       " 'roberta.encoder.layer.5.attention.self.query.lora_B': torch.Size([768, 8]),\n",
       " 'roberta.encoder.layer.5.attention.self.value.lora_A': torch.Size([8, 768]),\n",
       " 'roberta.encoder.layer.5.attention.self.value.lora_B': torch.Size([768, 8]),\n",
       " 'roberta.encoder.layer.6.attention.self.query.lora_A': torch.Size([8, 768]),\n",
       " 'roberta.encoder.layer.6.attention.self.query.lora_B': torch.Size([768, 8]),\n",
       " 'roberta.encoder.layer.6.attention.self.value.lora_A': torch.Size([8, 768]),\n",
       " 'roberta.encoder.layer.6.attention.self.value.lora_B': torch.Size([768, 8]),\n",
       " 'roberta.encoder.layer.7.attention.self.query.lora_A': torch.Size([8, 768]),\n",
       " 'roberta.encoder.layer.7.attention.self.query.lora_B': torch.Size([768, 8]),\n",
       " 'roberta.encoder.layer.7.attention.self.value.lora_A': torch.Size([8, 768]),\n",
       " 'roberta.encoder.layer.7.attention.self.value.lora_B': torch.Size([768, 8]),\n",
       " 'roberta.encoder.layer.8.attention.self.query.lora_A': torch.Size([8, 768]),\n",
       " 'roberta.encoder.layer.8.attention.self.query.lora_B': torch.Size([768, 8]),\n",
       " 'roberta.encoder.layer.8.attention.self.value.lora_A': torch.Size([8, 768]),\n",
       " 'roberta.encoder.layer.8.attention.self.value.lora_B': torch.Size([768, 8]),\n",
       " 'roberta.encoder.layer.9.attention.self.query.lora_A': torch.Size([8, 768]),\n",
       " 'roberta.encoder.layer.9.attention.self.query.lora_B': torch.Size([768, 8]),\n",
       " 'roberta.encoder.layer.9.attention.self.value.lora_A': torch.Size([8, 768]),\n",
       " 'roberta.encoder.layer.9.attention.self.value.lora_B': torch.Size([768, 8]),\n",
       " 'roberta.encoder.layer.10.attention.self.query.lora_A': torch.Size([8, 768]),\n",
       " 'roberta.encoder.layer.10.attention.self.query.lora_B': torch.Size([768, 8]),\n",
       " 'roberta.encoder.layer.10.attention.self.value.lora_A': torch.Size([8, 768]),\n",
       " 'roberta.encoder.layer.10.attention.self.value.lora_B': torch.Size([768, 8]),\n",
       " 'roberta.encoder.layer.11.attention.self.query.lora_A': torch.Size([8, 768]),\n",
       " 'roberta.encoder.layer.11.attention.self.query.lora_B': torch.Size([768, 8]),\n",
       " 'roberta.encoder.layer.11.attention.self.value.lora_A': torch.Size([8, 768]),\n",
       " 'roberta.encoder.layer.11.attention.self.value.lora_B': torch.Size([768, 8]),\n",
       " 'classifier.dense.weight': torch.Size([768, 768]),\n",
       " 'classifier.dense.bias': torch.Size([768]),\n",
       " 'classifier.out_proj.weight': torch.Size([3, 768]),\n",
       " 'classifier.out_proj.bias': torch.Size([3])}"
      ]
     },
     "execution_count": 3,
     "metadata": {},
     "output_type": "execute_result"
    }
   ],
   "source": [
    "# Assume: M1 Mac chip with MPS GPU\n",
    "# Load as memmap in cpu -> move to MPS GPU in float32 -> visualise in cpu\n",
    "state_dict = torch.load(pth, map_location=torch.device(\"cpu\"), mmap=True)\n",
    "{key: state_dict[key].shape for key in state_dict.keys()}"
   ]
  },
  {
   "cell_type": "code",
   "execution_count": 6,
   "metadata": {},
   "outputs": [
    {
     "data": {
      "text/plain": [
       "{'roberta.encoder.layer.0.attention.self.query': [torch.Size([8, 768]),\n",
       "  torch.Size([768, 8])],\n",
       " 'roberta.encoder.layer.0.attention.self.value': [torch.Size([8, 768]),\n",
       "  torch.Size([768, 8])],\n",
       " 'roberta.encoder.layer.1.attention.self.query': [torch.Size([8, 768]),\n",
       "  torch.Size([768, 8])],\n",
       " 'roberta.encoder.layer.1.attention.self.value': [torch.Size([8, 768]),\n",
       "  torch.Size([768, 8])],\n",
       " 'roberta.encoder.layer.2.attention.self.query': [torch.Size([8, 768]),\n",
       "  torch.Size([768, 8])],\n",
       " 'roberta.encoder.layer.2.attention.self.value': [torch.Size([8, 768]),\n",
       "  torch.Size([768, 8])],\n",
       " 'roberta.encoder.layer.3.attention.self.query': [torch.Size([8, 768]),\n",
       "  torch.Size([768, 8])],\n",
       " 'roberta.encoder.layer.3.attention.self.value': [torch.Size([8, 768]),\n",
       "  torch.Size([768, 8])],\n",
       " 'roberta.encoder.layer.4.attention.self.query': [torch.Size([8, 768]),\n",
       "  torch.Size([768, 8])],\n",
       " 'roberta.encoder.layer.4.attention.self.value': [torch.Size([8, 768]),\n",
       "  torch.Size([768, 8])],\n",
       " 'roberta.encoder.layer.5.attention.self.query': [torch.Size([8, 768]),\n",
       "  torch.Size([768, 8])],\n",
       " 'roberta.encoder.layer.5.attention.self.value': [torch.Size([8, 768]),\n",
       "  torch.Size([768, 8])],\n",
       " 'roberta.encoder.layer.6.attention.self.query': [torch.Size([8, 768]),\n",
       "  torch.Size([768, 8])],\n",
       " 'roberta.encoder.layer.6.attention.self.value': [torch.Size([8, 768]),\n",
       "  torch.Size([768, 8])],\n",
       " 'roberta.encoder.layer.7.attention.self.query': [torch.Size([8, 768]),\n",
       "  torch.Size([768, 8])],\n",
       " 'roberta.encoder.layer.7.attention.self.value': [torch.Size([8, 768]),\n",
       "  torch.Size([768, 8])],\n",
       " 'roberta.encoder.layer.8.attention.self.query': [torch.Size([8, 768]),\n",
       "  torch.Size([768, 8])],\n",
       " 'roberta.encoder.layer.8.attention.self.value': [torch.Size([8, 768]),\n",
       "  torch.Size([768, 8])],\n",
       " 'roberta.encoder.layer.9.attention.self.query': [torch.Size([8, 768]),\n",
       "  torch.Size([768, 8])],\n",
       " 'roberta.encoder.layer.9.attention.self.value': [torch.Size([8, 768]),\n",
       "  torch.Size([768, 8])],\n",
       " 'roberta.encoder.layer.10.attention.self.query': [torch.Size([8, 768]),\n",
       "  torch.Size([768, 8])],\n",
       " 'roberta.encoder.layer.10.attention.self.value': [torch.Size([8, 768]),\n",
       "  torch.Size([768, 8])],\n",
       " 'roberta.encoder.layer.11.attention.self.query': [torch.Size([8, 768]),\n",
       "  torch.Size([768, 8])],\n",
       " 'roberta.encoder.layer.11.attention.self.value': [torch.Size([8, 768]),\n",
       "  torch.Size([768, 8])]}"
      ]
     },
     "execution_count": 6,
     "metadata": {},
     "output_type": "execute_result"
    }
   ],
   "source": [
    "lora_states = {}  # To store grouped A and B tensors\n",
    "\n",
    "for key, value in state_dict.items():\n",
    "    if \"lora\" in key:\n",
    "        lora_key = key.replace(\".lora_A\", \"\").replace(\n",
    "            \".lora_B\", \"\"\n",
    "        )  # Remove 'lora_A' or 'lora_B' suffix\n",
    "        if lora_key not in lora_states:\n",
    "            lora_states[lora_key] = [None, None]\n",
    "        if key.endswith(\".lora_A\"):\n",
    "            lora_states[lora_key][0] = value\n",
    "        elif key.endswith(\".lora_B\"):\n",
    "            lora_states[lora_key][1] = value\n",
    "{key: [value[0].shape, value[1].shape] for key, value in lora_states.items()}"
   ]
  },
  {
   "cell_type": "code",
   "execution_count": 9,
   "metadata": {},
   "outputs": [
    {
     "name": "stdout",
     "output_type": "stream",
     "text": [
      "torch.Size([8, 768]) torch.Size([768, 8])\n"
     ]
    },
    {
     "data": {
      "text/plain": [
       "(torch.Size([8, 8]), torch.Size([768, 768]))"
      ]
     },
     "execution_count": 9,
     "metadata": {},
     "output_type": "execute_result"
    }
   ],
   "source": [
    "lora_pair = lora_states[\"roberta.encoder.layer.0.attention.self.query\"]\n",
    "a,b = lora_pair[0], lora_pair[1]\n",
    "print(a.shape, b.shape)\n",
    "\n",
    "# LoRa paper states BAx (page 4) -> b @ a\n",
    "(a @ b).shape, (b @ a).shape"
   ]
  },
  {
   "cell_type": "code",
   "execution_count": 10,
   "metadata": {},
   "outputs": [
    {
     "data": {
      "text/plain": [
       "{'roberta.encoder.layer.0.attention.self.query': torch.Size([768, 768]),\n",
       " 'roberta.encoder.layer.0.attention.self.value': torch.Size([768, 768]),\n",
       " 'roberta.encoder.layer.1.attention.self.query': torch.Size([768, 768]),\n",
       " 'roberta.encoder.layer.1.attention.self.value': torch.Size([768, 768]),\n",
       " 'roberta.encoder.layer.2.attention.self.query': torch.Size([768, 768]),\n",
       " 'roberta.encoder.layer.2.attention.self.value': torch.Size([768, 768]),\n",
       " 'roberta.encoder.layer.3.attention.self.query': torch.Size([768, 768]),\n",
       " 'roberta.encoder.layer.3.attention.self.value': torch.Size([768, 768]),\n",
       " 'roberta.encoder.layer.4.attention.self.query': torch.Size([768, 768]),\n",
       " 'roberta.encoder.layer.4.attention.self.value': torch.Size([768, 768]),\n",
       " 'roberta.encoder.layer.5.attention.self.query': torch.Size([768, 768]),\n",
       " 'roberta.encoder.layer.5.attention.self.value': torch.Size([768, 768]),\n",
       " 'roberta.encoder.layer.6.attention.self.query': torch.Size([768, 768]),\n",
       " 'roberta.encoder.layer.6.attention.self.value': torch.Size([768, 768]),\n",
       " 'roberta.encoder.layer.7.attention.self.query': torch.Size([768, 768]),\n",
       " 'roberta.encoder.layer.7.attention.self.value': torch.Size([768, 768]),\n",
       " 'roberta.encoder.layer.8.attention.self.query': torch.Size([768, 768]),\n",
       " 'roberta.encoder.layer.8.attention.self.value': torch.Size([768, 768]),\n",
       " 'roberta.encoder.layer.9.attention.self.query': torch.Size([768, 768]),\n",
       " 'roberta.encoder.layer.9.attention.self.value': torch.Size([768, 768]),\n",
       " 'roberta.encoder.layer.10.attention.self.query': torch.Size([768, 768]),\n",
       " 'roberta.encoder.layer.10.attention.self.value': torch.Size([768, 768]),\n",
       " 'roberta.encoder.layer.11.attention.self.query': torch.Size([768, 768]),\n",
       " 'roberta.encoder.layer.11.attention.self.value': torch.Size([768, 768])}"
      ]
     },
     "execution_count": 10,
     "metadata": {},
     "output_type": "execute_result"
    }
   ],
   "source": [
    "# Project matmul of B @ A to W, over every lora state pair dict\n",
    "delta_W_proj = {}\n",
    "for key, value in lora_states.items():\n",
    "\t\ta, b = value[0], value[1]\n",
    "\t\tdelta_W_proj[key] = b @ a\n",
    "{key: t.shape for key, t in delta_W_proj.items()}"
   ]
  },
  {
   "cell_type": "code",
   "execution_count": 11,
   "metadata": {},
   "outputs": [],
   "source": [
    "def angles_in_unit_vectors_of_matrix(matrix: torch.Tensor) -> torch.Tensor:\n",
    "    \"\"\"Find the angles between all the unit (column) vectors of a matrix.\n",
    "\n",
    "    Args:\n",
    "        matrix (torch.Tensor): Matrix of shape (N, M)\n",
    "\n",
    "    Returns:a\n",
    "        torch.Tensor: Angles in radians of shape (M, M)\n",
    "    \"\"\"\n",
    "    # Normalize columns to ensure they are unit vectors\n",
    "    normalized_matrix = matrix / matrix.norm(dim=0)\n",
    "\n",
    "    # Compute the dot product between all pairs of columns\n",
    "    dot_products = torch.matmul(normalized_matrix.t(), normalized_matrix)\n",
    "\n",
    "    # Ensure dot products are within [-1, 1] due to potential numerical issues\n",
    "    dot_products = torch.clamp(dot_products, min=-1.0, max=1.0)\n",
    "\n",
    "    # Compute the angles between columns using the arccosine function\n",
    "    angles = torch.acos(dot_products)\n",
    "\n",
    "    return angles"
   ]
  },
  {
   "cell_type": "code",
   "execution_count": 12,
   "metadata": {},
   "outputs": [],
   "source": [
    "MPS = {'device': 'mps', 'dtype': torch.float32}\n",
    "CPU = {'device': 'cpu', 'dtype': torch.float16}\t"
   ]
  },
  {
   "cell_type": "code",
   "execution_count": 13,
   "metadata": {},
   "outputs": [
    {
     "name": "stderr",
     "output_type": "stream",
     "text": [
      "/Users/markuszhang/.pyenv/versions/3.11.4/lib/python3.11/site-packages/torch/_tensor_str.py:137: UserWarning: MPS: nonzero op is supported natively starting from macOS 13.0. Falling back on CPU. This may have performance implications. (Triggered internally at /Users/runner/work/pytorch/pytorch/pytorch/aten/src/ATen/native/mps/operations/Indexing.mm:283.)\n",
      "  nonzero_finite_vals = torch.masked_select(\n"
     ]
    },
    {
     "data": {
      "text/plain": [
       "tensor([[0.0000e+00, 2.0451e+00, 1.5361e+00,  ..., 1.1952e+00, 1.3364e+00,\n",
       "         1.7809e+00],\n",
       "        [2.0451e+00, 1.0358e-03, 1.4534e+00,  ..., 2.4371e+00, 1.1605e+00,\n",
       "         1.2175e+00],\n",
       "        [1.5361e+00, 1.4534e+00, 3.4527e-04,  ..., 2.1219e+00, 7.5401e-01,\n",
       "         1.1036e+00],\n",
       "        ...,\n",
       "        [1.1952e+00, 2.4371e+00, 2.1219e+00,  ..., 0.0000e+00, 2.4260e+00,\n",
       "         2.4368e+00],\n",
       "        [1.3364e+00, 1.1605e+00, 7.5401e-01,  ..., 2.4260e+00, 5.9802e-04,\n",
       "         1.0312e+00],\n",
       "        [1.7809e+00, 1.2175e+00, 1.1036e+00,  ..., 2.4368e+00, 1.0312e+00,\n",
       "         1.0358e-03]], device='mps:0')"
      ]
     },
     "execution_count": 13,
     "metadata": {},
     "output_type": "execute_result"
    }
   ],
   "source": [
    "angles = angles_in_unit_vectors_of_matrix(\n",
    "    delta_W_proj[\"roberta.encoder.layer.0.attention.self.query\"].to(**MPS)\n",
    ")\n",
    "angles"
   ]
  },
  {
   "cell_type": "code",
   "execution_count": 14,
   "metadata": {},
   "outputs": [],
   "source": [
    "def upper_triangle(symmetric_matrix):\n",
    "    \"\"\"\n",
    "    Extracts the upper triangle of a symmetric matrix (including the diagonal)\n",
    "    and returns a flat vector without the masked zeros.\n",
    "\n",
    "    Args:\n",
    "        symmetric_matrix (torch.Tensor): The symmetric matrix from which the upper\n",
    "            triangle (including the diagonal) will be extracted.\n",
    "\n",
    "    Returns:\n",
    "        torch.Tensor: A 1D tensor containing the upper triangle elements (including\n",
    "            the diagonal) without the masked zeros.\n",
    "    \"\"\"\n",
    "    # Use torch.triu to extract the upper triangle (including the diagonal)\n",
    "    upper_triangle = torch.triu(symmetric_matrix)\n",
    "\n",
    "    # Convert the upper triangle to a flat vector without masked zeros\n",
    "    flat_vector = upper_triangle[upper_triangle != 0]\n",
    "\n",
    "    return flat_vector"
   ]
  },
  {
   "cell_type": "code",
   "execution_count": 15,
   "metadata": {},
   "outputs": [
    {
     "name": "stdout",
     "output_type": "stream",
     "text": [
      "roberta.encoder.layer.0.attention.self.query torch.Size([768, 768]) torch.Size([294889])\n",
      "roberta.encoder.layer.0.attention.self.value torch.Size([768, 768]) torch.Size([294904])\n",
      "roberta.encoder.layer.1.attention.self.query torch.Size([768, 768]) torch.Size([294895])\n",
      "roberta.encoder.layer.1.attention.self.value torch.Size([768, 768]) torch.Size([294898])\n",
      "roberta.encoder.layer.2.attention.self.query torch.Size([768, 768]) torch.Size([294887])\n",
      "roberta.encoder.layer.2.attention.self.value torch.Size([768, 768]) torch.Size([294897])\n",
      "roberta.encoder.layer.3.attention.self.query torch.Size([768, 768]) torch.Size([294909])\n",
      "roberta.encoder.layer.3.attention.self.value torch.Size([768, 768]) torch.Size([294921])\n",
      "roberta.encoder.layer.4.attention.self.query torch.Size([768, 768]) torch.Size([294913])\n",
      "roberta.encoder.layer.4.attention.self.value torch.Size([768, 768]) torch.Size([294890])\n",
      "roberta.encoder.layer.5.attention.self.query torch.Size([768, 768]) torch.Size([294890])\n",
      "roberta.encoder.layer.5.attention.self.value torch.Size([768, 768]) torch.Size([294909])\n",
      "roberta.encoder.layer.6.attention.self.query torch.Size([768, 768]) torch.Size([294868])\n",
      "roberta.encoder.layer.6.attention.self.value torch.Size([768, 768]) torch.Size([294920])\n",
      "roberta.encoder.layer.7.attention.self.query torch.Size([768, 768]) torch.Size([294880])\n",
      "roberta.encoder.layer.7.attention.self.value torch.Size([768, 768]) torch.Size([294900])\n",
      "roberta.encoder.layer.8.attention.self.query torch.Size([768, 768]) torch.Size([294918])\n",
      "roberta.encoder.layer.8.attention.self.value torch.Size([768, 768]) torch.Size([294912])\n",
      "roberta.encoder.layer.9.attention.self.query torch.Size([768, 768]) torch.Size([294896])\n",
      "roberta.encoder.layer.9.attention.self.value torch.Size([768, 768]) torch.Size([294882])\n",
      "roberta.encoder.layer.10.attention.self.query torch.Size([768, 768]) torch.Size([294905])\n",
      "roberta.encoder.layer.10.attention.self.value torch.Size([768, 768]) torch.Size([294909])\n",
      "roberta.encoder.layer.11.attention.self.query torch.Size([768, 768]) torch.Size([294905])\n",
      "roberta.encoder.layer.11.attention.self.value torch.Size([768, 768]) torch.Size([294883])\n"
     ]
    }
   ],
   "source": [
    "angledict = {}\n",
    "for k,W in delta_W_proj.items():\n",
    "    matrix = W.to(**MPS)\n",
    "    # Vectors and empty tensors don't get LoRa'd.\n",
    "    if len(matrix.shape) >= 2:\n",
    "        angles = upper_triangle(angles_in_unit_vectors_of_matrix(matrix))\n",
    "        angledict[k] = angles.to(**CPU)\n",
    "        print(k, matrix.shape, angles.shape)"
   ]
  },
  {
   "cell_type": "code",
   "execution_count": 16,
   "metadata": {},
   "outputs": [],
   "source": [
    "# torch.save angledict\n",
    "torch.save(angledict, f\"out/angledict_roberta.pt\")"
   ]
  },
  {
   "cell_type": "code",
   "execution_count": 2,
   "metadata": {},
   "outputs": [
    {
     "data": {
      "text/plain": [
       "dict_keys(['model.embed_tokens.weight', 'model.layers.0.self_attn.q_proj.weight', 'model.layers.0.self_attn.k_proj.weight', 'model.layers.0.self_attn.v_proj.weight', 'model.layers.0.self_attn.o_proj.weight', 'model.layers.0.mlp.gate_proj.weight', 'model.layers.0.mlp.down_proj.weight', 'model.layers.0.mlp.up_proj.weight', 'model.layers.1.self_attn.q_proj.weight', 'model.layers.1.self_attn.k_proj.weight', 'model.layers.1.self_attn.v_proj.weight', 'model.layers.1.self_attn.o_proj.weight', 'model.layers.1.mlp.gate_proj.weight', 'model.layers.1.mlp.down_proj.weight', 'model.layers.1.mlp.up_proj.weight', 'model.layers.2.self_attn.q_proj.weight', 'model.layers.2.self_attn.k_proj.weight', 'model.layers.2.self_attn.v_proj.weight', 'model.layers.2.self_attn.o_proj.weight', 'model.layers.2.mlp.gate_proj.weight', 'model.layers.2.mlp.down_proj.weight', 'model.layers.2.mlp.up_proj.weight', 'model.layers.3.self_attn.q_proj.weight', 'model.layers.3.self_attn.k_proj.weight', 'model.layers.3.self_attn.v_proj.weight', 'model.layers.3.self_attn.o_proj.weight', 'model.layers.3.mlp.gate_proj.weight', 'model.layers.3.mlp.down_proj.weight', 'model.layers.3.mlp.up_proj.weight', 'model.layers.4.self_attn.q_proj.weight', 'model.layers.4.self_attn.k_proj.weight', 'model.layers.4.self_attn.v_proj.weight', 'model.layers.4.self_attn.o_proj.weight', 'model.layers.4.mlp.gate_proj.weight', 'model.layers.4.mlp.down_proj.weight', 'model.layers.4.mlp.up_proj.weight', 'model.layers.5.self_attn.q_proj.weight', 'model.layers.5.self_attn.k_proj.weight', 'model.layers.5.self_attn.v_proj.weight', 'model.layers.5.self_attn.o_proj.weight', 'model.layers.5.mlp.gate_proj.weight', 'model.layers.5.mlp.down_proj.weight', 'model.layers.5.mlp.up_proj.weight', 'model.layers.6.self_attn.q_proj.weight', 'model.layers.6.self_attn.k_proj.weight', 'model.layers.6.self_attn.v_proj.weight', 'model.layers.6.self_attn.o_proj.weight', 'model.layers.6.mlp.gate_proj.weight', 'model.layers.6.mlp.down_proj.weight', 'model.layers.6.mlp.up_proj.weight', 'model.layers.7.self_attn.q_proj.weight', 'model.layers.7.self_attn.k_proj.weight', 'model.layers.7.self_attn.v_proj.weight', 'model.layers.7.self_attn.o_proj.weight', 'model.layers.7.mlp.gate_proj.weight', 'model.layers.7.mlp.down_proj.weight', 'model.layers.7.mlp.up_proj.weight', 'model.layers.8.self_attn.q_proj.weight', 'model.layers.8.self_attn.k_proj.weight', 'model.layers.8.self_attn.v_proj.weight', 'model.layers.8.self_attn.o_proj.weight', 'model.layers.8.mlp.gate_proj.weight', 'model.layers.8.mlp.down_proj.weight', 'model.layers.8.mlp.up_proj.weight', 'model.layers.9.self_attn.q_proj.weight', 'model.layers.9.self_attn.k_proj.weight', 'model.layers.9.self_attn.v_proj.weight', 'model.layers.9.self_attn.o_proj.weight', 'model.layers.9.mlp.gate_proj.weight', 'model.layers.9.mlp.down_proj.weight', 'model.layers.9.mlp.up_proj.weight', 'model.layers.10.self_attn.q_proj.weight', 'model.layers.10.self_attn.k_proj.weight', 'model.layers.10.self_attn.v_proj.weight', 'model.layers.10.self_attn.o_proj.weight', 'model.layers.10.mlp.gate_proj.weight', 'model.layers.10.mlp.down_proj.weight', 'model.layers.10.mlp.up_proj.weight', 'model.layers.11.self_attn.q_proj.weight', 'model.layers.11.self_attn.k_proj.weight', 'model.layers.11.self_attn.v_proj.weight', 'model.layers.11.self_attn.o_proj.weight', 'model.layers.11.mlp.gate_proj.weight'])"
      ]
     },
     "execution_count": 2,
     "metadata": {},
     "output_type": "execute_result"
    }
   ],
   "source": [
    "# Load from disk to clear, garbage collect, and save RAM for us poor peasants\n",
    "import torch\n",
    "\n",
    "path = \"out/\"\n",
    "split_num = 1\n",
    "MPS = {\"device\": \"mps\", \"dtype\": torch.float32}\n",
    "CPU = {\"device\": \"cpu\", \"dtype\": torch.float16}\n",
    "angledict = torch.load(path + f\"angledict_0000{split_num}.pt\")\n",
    "angledict.keys()"
   ]
  },
  {
   "cell_type": "code",
   "execution_count": 17,
   "metadata": {},
   "outputs": [
    {
     "name": "stderr",
     "output_type": "stream",
     "text": [
      "/var/folders/kq/mtjf6mbj4rv07rcz7sq40s6w0000gn/T/ipykernel_33315/169135902.py:2: UserWarning: torch.topk support for k>16 by MPS on MacOS 13+, please upgrade (Triggered internally at /Users/runner/work/pytorch/pytorch/pytorch/aten/src/ATen/native/mps/operations/Shape.mm:71.)\n",
      "  dist[torch.multinomial(dist, 1000)]\n"
     ]
    },
    {
     "name": "stdout",
     "output_type": "stream",
     "text": [
      "roberta.encoder.layer.0.attention.self.query torch.Size([294889])\n",
      "--  torch.Size([1000])\n",
      "roberta.encoder.layer.0.attention.self.value torch.Size([294904])\n",
      "--  torch.Size([1000])\n",
      "roberta.encoder.layer.1.attention.self.query torch.Size([294895])\n",
      "--  torch.Size([1000])\n",
      "roberta.encoder.layer.1.attention.self.value torch.Size([294898])\n",
      "--  torch.Size([1000])\n",
      "roberta.encoder.layer.2.attention.self.query torch.Size([294887])\n",
      "--  torch.Size([1000])\n",
      "roberta.encoder.layer.2.attention.self.value torch.Size([294897])\n",
      "--  torch.Size([1000])\n",
      "roberta.encoder.layer.3.attention.self.query torch.Size([294909])\n",
      "--  torch.Size([1000])\n",
      "roberta.encoder.layer.3.attention.self.value torch.Size([294921])\n",
      "--  torch.Size([1000])\n",
      "roberta.encoder.layer.4.attention.self.query torch.Size([294913])\n",
      "--  torch.Size([1000])\n",
      "roberta.encoder.layer.4.attention.self.value torch.Size([294890])\n",
      "--  torch.Size([1000])\n",
      "roberta.encoder.layer.5.attention.self.query torch.Size([294890])\n",
      "--  torch.Size([1000])\n",
      "roberta.encoder.layer.5.attention.self.value torch.Size([294909])\n",
      "--  torch.Size([1000])\n",
      "roberta.encoder.layer.6.attention.self.query torch.Size([294868])\n",
      "--  torch.Size([1000])\n",
      "roberta.encoder.layer.6.attention.self.value torch.Size([294920])\n",
      "--  torch.Size([1000])\n",
      "roberta.encoder.layer.7.attention.self.query torch.Size([294880])\n",
      "--  torch.Size([1000])\n",
      "roberta.encoder.layer.7.attention.self.value torch.Size([294900])\n",
      "--  torch.Size([1000])\n",
      "roberta.encoder.layer.8.attention.self.query torch.Size([294918])\n",
      "--  torch.Size([1000])\n",
      "roberta.encoder.layer.8.attention.self.value torch.Size([294912])\n",
      "--  torch.Size([1000])\n",
      "roberta.encoder.layer.9.attention.self.query torch.Size([294896])\n",
      "--  torch.Size([1000])\n",
      "roberta.encoder.layer.9.attention.self.value torch.Size([294882])\n",
      "--  torch.Size([1000])\n",
      "roberta.encoder.layer.10.attention.self.query torch.Size([294905])\n",
      "--  torch.Size([1000])\n",
      "roberta.encoder.layer.10.attention.self.value torch.Size([294909])\n",
      "--  torch.Size([1000])\n",
      "roberta.encoder.layer.11.attention.self.query torch.Size([294905])\n",
      "--  torch.Size([1000])\n",
      "roberta.encoder.layer.11.attention.self.value torch.Size([294883])\n",
      "--  torch.Size([1000])\n"
     ]
    }
   ],
   "source": [
    "dist = angledict[\"roberta.encoder.layer.0.attention.self.query\"].to(**MPS)\n",
    "dist[torch.multinomial(dist, 1000)]\n",
    "\n",
    "# For each layer, sample 1000 from multinomial\n",
    "sampled_angles = {}\n",
    "for k in angledict:\n",
    "    # Discard after 2**24 samples cause random sampler breaks\n",
    "    dist = angledict[k].to(**MPS)[: int(2**24)]\n",
    "    print(k, dist.shape)\n",
    "    sampled_angles[k] = dist[torch.multinomial(dist, 1000)].to(**CPU)\n",
    "    print(\"-- \", sampled_angles[k].shape)"
   ]
  },
  {
   "cell_type": "code",
   "execution_count": 18,
   "metadata": {},
   "outputs": [
    {
     "data": {
      "text/plain": [
       "{'roberta.encoder.layer.0.attention.self.query': torch.Size([1000]),\n",
       " 'roberta.encoder.layer.0.attention.self.value': torch.Size([1000]),\n",
       " 'roberta.encoder.layer.1.attention.self.query': torch.Size([1000]),\n",
       " 'roberta.encoder.layer.1.attention.self.value': torch.Size([1000]),\n",
       " 'roberta.encoder.layer.2.attention.self.query': torch.Size([1000]),\n",
       " 'roberta.encoder.layer.2.attention.self.value': torch.Size([1000]),\n",
       " 'roberta.encoder.layer.3.attention.self.query': torch.Size([1000]),\n",
       " 'roberta.encoder.layer.3.attention.self.value': torch.Size([1000]),\n",
       " 'roberta.encoder.layer.4.attention.self.query': torch.Size([1000]),\n",
       " 'roberta.encoder.layer.4.attention.self.value': torch.Size([1000]),\n",
       " 'roberta.encoder.layer.5.attention.self.query': torch.Size([1000]),\n",
       " 'roberta.encoder.layer.5.attention.self.value': torch.Size([1000]),\n",
       " 'roberta.encoder.layer.6.attention.self.query': torch.Size([1000]),\n",
       " 'roberta.encoder.layer.6.attention.self.value': torch.Size([1000]),\n",
       " 'roberta.encoder.layer.7.attention.self.query': torch.Size([1000]),\n",
       " 'roberta.encoder.layer.7.attention.self.value': torch.Size([1000]),\n",
       " 'roberta.encoder.layer.8.attention.self.query': torch.Size([1000]),\n",
       " 'roberta.encoder.layer.8.attention.self.value': torch.Size([1000]),\n",
       " 'roberta.encoder.layer.9.attention.self.query': torch.Size([1000]),\n",
       " 'roberta.encoder.layer.9.attention.self.value': torch.Size([1000]),\n",
       " 'roberta.encoder.layer.10.attention.self.query': torch.Size([1000]),\n",
       " 'roberta.encoder.layer.10.attention.self.value': torch.Size([1000]),\n",
       " 'roberta.encoder.layer.11.attention.self.query': torch.Size([1000]),\n",
       " 'roberta.encoder.layer.11.attention.self.value': torch.Size([1000])}"
      ]
     },
     "execution_count": 18,
     "metadata": {},
     "output_type": "execute_result"
    }
   ],
   "source": [
    "{key: sampled_angles[key].shape for key in sampled_angles.keys()}"
   ]
  },
  {
   "cell_type": "code",
   "execution_count": 19,
   "metadata": {},
   "outputs": [
    {
     "data": {
      "image/png": "[encoded data removed]",
      "text/plain": [
       "<Figure size 640x480 with 1 Axes>"
      ]
     },
     "metadata": {},
     "output_type": "display_data"
    }
   ],
   "source": [
    "import matplotlib.pyplot as plt\n",
    "import numpy as np\n",
    "\n",
    "# Assuming weights is the name of your dictionary\n",
    "# Can't plot 80M points. Sample 100K from distribution. Should tend to true dist.\n",
    "sampled_dist = torch.cat(list(sampled_angles.values())).numpy()\n",
    "\n",
    "plt.hist(sampled_dist, bins=100, log=True, color=\"cornflowerblue\", alpha=0.7)\n",
    "plt.title(\"Sampled Angles in Weight Matrices of 1st Split\")\n",
    "plt.xlabel(\"Angle between 2 unit vectors (Radians)\")\n",
    "plt.ylabel(\"Log Frequency\")\n",
    "\n",
    "# Draw a horizontal line at y=π/2\n",
    "plt.axvline(np.pi / 2, color=\"red\", linestyle=\"dashed\", linewidth=2, label=\"x=pi/2\")\n",
    "\n",
    "plt.show()"
   ]
  },
  {
   "cell_type": "code",
   "execution_count": null,
   "metadata": {},
   "outputs": [],
   "source": []
  }
 ],
 "metadata": {
  "kernelspec": {
   "display_name": "Python 3",
   "language": "python",
   "name": "python3"
  },
  "language_info": {
   "codemirror_mode": {
    "name": "ipython",
    "version": 3
   },
   "file_extension": ".py",
   "mimetype": "text/x-python",
   "name": "python",
   "nbconvert_exporter": "python",
   "pygments_lexer": "ipython3",
   "version": "3.11.4"
  }
 },
 "nbformat": 4,
 "nbformat_minor": 2
}
