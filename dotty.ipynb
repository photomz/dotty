{
 "cells": [
  {
   "cell_type": "code",
   "execution_count": 1,
   "metadata": {},
   "outputs": [
    {
     "name": "stdout",
     "output_type": "stream",
     "text": [
      "Name: torch\n",
      "Version: 1.13.1\n",
      "Summary: Tensors and Dynamic neural networks in Python with strong GPU acceleration\n",
      "Home-page: https://pytorch.org/\n",
      "Author: PyTorch Team\n",
      "Author-email: packages@pytorch.org\n",
      "License: BSD-3\n",
      "Location: /Users/markuszhang/.pyenv/versions/3.9.17/lib/python3.9/site-packages\n",
      "Requires: typing-extensions\n",
      "Required-by: \n"
     ]
    }
   ],
   "source": [
    "import torch\n",
    "!pip show torch\n",
    "\n",
    "def load_model_memory_mapped(model_path):\n",
    "    # if torch.backends.mps.is_available():\n",
    "    #     print(f\"mps is available\")\n",
    "    #     device = torch.device('mps')\n",
    "    # else:\n",
    "    #     device = torch.device('cpu')\n",
    "    return torch.load(\n",
    "        model_path, map_location=torch.device('cpu'), mmap=True\n",
    "    )\n",
    "\n",
    "\n",
    "def compute_weight_sums(model):\n",
    "    weight_sums = {}\n",
    "    for name, param in model.named_parameters():\n",
    "        # Compute the sum for rows and columns and store in a dictionary\n",
    "        weight_sums[name] = {\n",
    "            \"row_sum\": torch.sum(param, dim=0).cpu().numpy(),  # sum along rows\n",
    "            \"col_sum\": torch.sum(param, dim=1).cpu().numpy(),  # sum along columns\n",
    "        }\n",
    "    return weight_sums\n",
    "\n",
    "\n",
    "def main(model_path):\n",
    "    model = load_model_memory_mapped(model_path)\n",
    "    weight_sums = compute_weight_sums(model)\n",
    "\n",
    "    # Output the sums for visualization or further analysis\n",
    "    for name, sums in weight_sums.items():\n",
    "        print(f\"Parameter: {name}\")\n",
    "        print(f\"Row Sum: {sums['row_sum']}\")\n",
    "        print(f\"Column Sum: {sums['col_sum']}\")\n",
    "        print(\"========================================\")\n",
    "\n",
    "from os.path import expanduser\n",
    "model_path = expanduser(\"~/Downloads/consolidated.00.pth\")"
   ]
  },
  {
   "cell_type": "code",
   "execution_count": 2,
   "metadata": {},
   "outputs": [
    {
     "ename": "TypeError",
     "evalue": "'mmap' is an invalid keyword argument for Unpickler()",
     "output_type": "error",
     "traceback": [
      "\u001b[0;31m---------------------------------------------------------------------------\u001b[0m",
      "\u001b[0;31mTypeError\u001b[0m                                 Traceback (most recent call last)",
      "\u001b[1;32m/Users/markuszhang/Code/py/dotty/dotty.ipynb Cell 2\u001b[0m line \u001b[0;36m1\n\u001b[0;32m----> <a href='vscode-notebook-cell:/Users/markuszhang/Code/py/dotty/dotty.ipynb#W1sZmlsZQ%3D%3D?line=0'>1</a>\u001b[0m model \u001b[39m=\u001b[39m load_model_memory_mapped(model_path)\n\u001b[1;32m      <a href='vscode-notebook-cell:/Users/markuszhang/Code/py/dotty/dotty.ipynb#W1sZmlsZQ%3D%3D?line=1'>2</a>\u001b[0m model\u001b[39m.\u001b[39mkeys()\n",
      "\u001b[1;32m/Users/markuszhang/Code/py/dotty/dotty.ipynb Cell 2\u001b[0m line \u001b[0;36m1\n\u001b[1;32m      <a href='vscode-notebook-cell:/Users/markuszhang/Code/py/dotty/dotty.ipynb#W1sZmlsZQ%3D%3D?line=3'>4</a>\u001b[0m \u001b[39mdef\u001b[39;00m \u001b[39mload_model_memory_mapped\u001b[39m(model_path):\n\u001b[1;32m      <a href='vscode-notebook-cell:/Users/markuszhang/Code/py/dotty/dotty.ipynb#W1sZmlsZQ%3D%3D?line=4'>5</a>\u001b[0m     \u001b[39m# if torch.backends.mps.is_available():\u001b[39;00m\n\u001b[1;32m      <a href='vscode-notebook-cell:/Users/markuszhang/Code/py/dotty/dotty.ipynb#W1sZmlsZQ%3D%3D?line=5'>6</a>\u001b[0m     \u001b[39m#     print(f\"mps is available\")\u001b[39;00m\n\u001b[1;32m      <a href='vscode-notebook-cell:/Users/markuszhang/Code/py/dotty/dotty.ipynb#W1sZmlsZQ%3D%3D?line=6'>7</a>\u001b[0m     \u001b[39m#     device = torch.device('mps')\u001b[39;00m\n\u001b[1;32m      <a href='vscode-notebook-cell:/Users/markuszhang/Code/py/dotty/dotty.ipynb#W1sZmlsZQ%3D%3D?line=7'>8</a>\u001b[0m     \u001b[39m# else:\u001b[39;00m\n\u001b[1;32m      <a href='vscode-notebook-cell:/Users/markuszhang/Code/py/dotty/dotty.ipynb#W1sZmlsZQ%3D%3D?line=8'>9</a>\u001b[0m     \u001b[39m#     device = torch.device('cpu')\u001b[39;00m\n\u001b[0;32m---> <a href='vscode-notebook-cell:/Users/markuszhang/Code/py/dotty/dotty.ipynb#W1sZmlsZQ%3D%3D?line=9'>10</a>\u001b[0m     \u001b[39mreturn\u001b[39;00m torch\u001b[39m.\u001b[39;49mload(\n\u001b[1;32m     <a href='vscode-notebook-cell:/Users/markuszhang/Code/py/dotty/dotty.ipynb#W1sZmlsZQ%3D%3D?line=10'>11</a>\u001b[0m         model_path, map_location\u001b[39m=\u001b[39;49mtorch\u001b[39m.\u001b[39;49mdevice(\u001b[39m'\u001b[39;49m\u001b[39mcpu\u001b[39;49m\u001b[39m'\u001b[39;49m), mmap\u001b[39m=\u001b[39;49m\u001b[39mTrue\u001b[39;49;00m\n\u001b[1;32m     <a href='vscode-notebook-cell:/Users/markuszhang/Code/py/dotty/dotty.ipynb#W1sZmlsZQ%3D%3D?line=11'>12</a>\u001b[0m     )\n",
      "File \u001b[0;32m~/.pyenv/versions/3.9.17/lib/python3.9/site-packages/torch/serialization.py:789\u001b[0m, in \u001b[0;36mload\u001b[0;34m(f, map_location, pickle_module, weights_only, **pickle_load_args)\u001b[0m\n\u001b[1;32m    787\u001b[0m             \u001b[39mexcept\u001b[39;00m \u001b[39mRuntimeError\u001b[39;00m \u001b[39mas\u001b[39;00m e:\n\u001b[1;32m    788\u001b[0m                 \u001b[39mraise\u001b[39;00m pickle\u001b[39m.\u001b[39mUnpicklingError(UNSAFE_MESSAGE \u001b[39m+\u001b[39m \u001b[39mstr\u001b[39m(e)) \u001b[39mfrom\u001b[39;00m \u001b[39mNone\u001b[39;00m\n\u001b[0;32m--> 789\u001b[0m         \u001b[39mreturn\u001b[39;00m _load(opened_zipfile, map_location, pickle_module, \u001b[39m*\u001b[39;49m\u001b[39m*\u001b[39;49mpickle_load_args)\n\u001b[1;32m    790\u001b[0m \u001b[39mif\u001b[39;00m weights_only:\n\u001b[1;32m    791\u001b[0m     \u001b[39mtry\u001b[39;00m:\n",
      "File \u001b[0;32m~/.pyenv/versions/3.9.17/lib/python3.9/site-packages/torch/serialization.py:1129\u001b[0m, in \u001b[0;36m_load\u001b[0;34m(zip_file, map_location, pickle_module, pickle_file, **pickle_load_args)\u001b[0m\n\u001b[1;32m   1126\u001b[0m \u001b[39m# Load the data (which may in turn use `persistent_load` to load tensors)\u001b[39;00m\n\u001b[1;32m   1127\u001b[0m data_file \u001b[39m=\u001b[39m io\u001b[39m.\u001b[39mBytesIO(zip_file\u001b[39m.\u001b[39mget_record(pickle_file))\n\u001b[0;32m-> 1129\u001b[0m unpickler \u001b[39m=\u001b[39m UnpicklerWrapper(data_file, \u001b[39m*\u001b[39;49m\u001b[39m*\u001b[39;49mpickle_load_args)\n\u001b[1;32m   1130\u001b[0m unpickler\u001b[39m.\u001b[39mpersistent_load \u001b[39m=\u001b[39m persistent_load\n\u001b[1;32m   1131\u001b[0m result \u001b[39m=\u001b[39m unpickler\u001b[39m.\u001b[39mload()\n",
      "\u001b[0;31mTypeError\u001b[0m: 'mmap' is an invalid keyword argument for Unpickler()"
     ]
    }
   ],
   "source": [
    "model = load_model_memory_mapped(model_path)\n",
    "model.keys()"
   ]
  },
  {
   "cell_type": "code",
   "execution_count": null,
   "metadata": {},
   "outputs": [
    {
     "ename": "",
     "evalue": "",
     "output_type": "error",
     "traceback": [
      "\u001b[1;31mThe kernel failed to start due to the missing module 'tornado'. Consider installing this module.\n",
      "\u001b[1;31mClick <a href='https://aka.ms/kernelFailuresMissingModule'>here</a> for more info."
     ]
    }
   ],
   "source": [
    "for key in model.keys():\n",
    "  size = model[key].size()\n",
    "  print(f\"{key}: {size}\")"
   ]
  },
  {
   "cell_type": "code",
   "execution_count": null,
   "metadata": {},
   "outputs": [
    {
     "ename": "",
     "evalue": "",
     "output_type": "error",
     "traceback": [
      "\u001b[1;31mThe kernel failed to start due to the missing module 'tornado'. Consider installing this module.\n",
      "\u001b[1;31mClick <a href='https://aka.ms/kernelFailuresMissingModule'>here</a> for more info."
     ]
    }
   ],
   "source": [
    "def angle_between_two_vectors(A: torch.Tensor, B: torch.Tensor) -> float:\n",
    "\t\t\"\"\"Find the angle between two vectors in Eucledian space.\n",
    "  \n",
    "  \tArgs:\n",
    "\t\t\tA (torch.Tensor): First vector\n",
    "   \t\tB (torch.Tensor): Second vector\n",
    "     \n",
    "    Returns:\n",
    "\t\t\tfloat: Angle in radians of range [0, pi]\n",
    "    \"\"\"\n",
    "\t\tdot = torch.dot(A, B)\n",
    "\t\tlength = torch.norm(A) * torch.norm(B)\n",
    "\t\tcos = dot / length\n",
    "\t\tangle = torch.acos(cos)\n",
    "\t\treturn angle"
   ]
  },
  {
   "cell_type": "code",
   "execution_count": null,
   "metadata": {},
   "outputs": [
    {
     "ename": "",
     "evalue": "",
     "output_type": "error",
     "traceback": [
      "\u001b[1;31mThe kernel failed to start due to the missing module 'tornado'. Consider installing this module.\n",
      "\u001b[1;31mClick <a href='https://aka.ms/kernelFailuresMissingModule'>here</a> for more info."
     ]
    }
   ],
   "source": [
    "from tqdm import trange\n",
    "\n",
    "def angles_in_unit_vectors_of_matrix_sequential(matrix: torch.Tensor) -> torch.Tensor:\n",
    "    \"\"\"Find the angles between all the unit (column) vectors of a matrix.\n",
    "\n",
    "    Args:\n",
    "            matrix (torch.Tensor): Matrix of shape (N, M)\n",
    "\n",
    "    Returns:\n",
    "            torch.Tensor: Angles in radians of shape (N, N)\n",
    "    \"\"\"\n",
    "\n",
    "    angles = []\n",
    "    for i in trange(matrix.size(1)):\n",
    "        for j in range(matrix.size(1)):\n",
    "            angle = angle_between_two_vectors(matrix[:, i], matrix[:, j])\n",
    "            angles.append(angle)\n",
    "    return torch.tensor(angles).view(matrix.size(1), matrix.size(1))"
   ]
  },
  {
   "cell_type": "code",
   "execution_count": null,
   "metadata": {},
   "outputs": [
    {
     "ename": "",
     "evalue": "",
     "output_type": "error",
     "traceback": [
      "\u001b[1;31mThe kernel failed to start due to the missing module 'tornado'. Consider installing this module.\n",
      "\u001b[1;31mClick <a href='https://aka.ms/kernelFailuresMissingModule'>here</a> for more info."
     ]
    }
   ],
   "source": [
    "def angles_in_unit_vectors_of_matrix(matrix: torch.Tensor) -> torch.Tensor:\n",
    "    \"\"\"Find the angles between all the unit (column) vectors of a matrix.\n",
    "\n",
    "    Args:\n",
    "        matrix (torch.Tensor): Matrix of shape (N, M)\n",
    "\n",
    "    Returns:a\n",
    "        torch.Tensor: Angles in radians of shape (M, M)\n",
    "    \"\"\"\n",
    "    # Normalize columns to ensure they are unit vectors\n",
    "    normalized_matrix = matrix / matrix.norm(dim=0)\n",
    "\n",
    "    # Compute the dot product between all pairs of columns\n",
    "    dot_products = torch.matmul(normalized_matrix.t(), normalized_matrix)\n",
    "\n",
    "    # Ensure dot products are within [-1, 1] due to potential numerical issues\n",
    "    dot_products = torch.clamp(dot_products, min=-1.0, max=1.0)\n",
    "\n",
    "    # Compute the angles between columns using the arccosine function\n",
    "    angles = torch.acos(dot_products)\n",
    "\n",
    "    return angles"
   ]
  },
  {
   "cell_type": "code",
   "execution_count": null,
   "metadata": {},
   "outputs": [
    {
     "ename": "",
     "evalue": "",
     "output_type": "error",
     "traceback": [
      "\u001b[1;31mThe kernel failed to start due to the missing module 'tornado'. Consider installing this module.\n",
      "\u001b[1;31mClick <a href='https://aka.ms/kernelFailuresMissingModule'>here</a> for more info."
     ]
    }
   ],
   "source": [
    "matrix_name = \"layers.0.attention.wq.weight\"\n",
    "\n",
    "A = model[matrix_name][:,0]\n",
    "B = model[matrix_name][:,1]\n",
    "\n",
    "angle = angle_between_two_vectors(A, B)\n",
    "\n",
    "angles_test = angles_in_unit_vectors_of_matrix_sequential(model[matrix_name])\n",
    "angles_test[0,1], angle"
   ]
  },
  {
   "cell_type": "code",
   "execution_count": null,
   "metadata": {},
   "outputs": [
    {
     "ename": "",
     "evalue": "",
     "output_type": "error",
     "traceback": [
      "\u001b[1;31mThe kernel failed to start due to the missing module 'tornado'. Consider installing this module.\n",
      "\u001b[1;31mClick <a href='https://aka.ms/kernelFailuresMissingModule'>here</a> for more info."
     ]
    }
   ],
   "source": []
  }
 ],
 "metadata": {
  "kernelspec": {
   "display_name": "Python 3 (ipykernel)",
   "language": "python",
   "name": "python3"
  },
  "language_info": {
   "codemirror_mode": {
    "name": "ipython",
    "version": 3
   },
   "file_extension": ".py",
   "mimetype": "text/x-python",
   "name": "python",
   "nbconvert_exporter": "python",
   "pygments_lexer": "ipython3",
   "version": "3.9.17"
  }
 },
 "nbformat": 4,
 "nbformat_minor": 2
}
