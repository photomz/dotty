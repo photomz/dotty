{
 "cells": [
  {
   "cell_type": "code",
   "execution_count": null,
   "metadata": {},
   "outputs": [],
   "source": [
    "import torch, sys, os, math, numpy as np\n",
    "import matplotlib.pyplot as plt\n",
    "import matplotlib.ticker as ticker"
   ]
  },
  {
   "cell_type": "code",
   "execution_count": null,
   "metadata": {},
   "outputs": [],
   "source": [
    "path = \"/home/user/llama/llama-2-7b\"\n",
    "os.listdir(path)\n",
    "pth = path + \"/consolidated.00.pth\"\n",
    "pth"
   ]
  },
  {
   "cell_type": "code",
   "execution_count": null,
   "metadata": {},
   "outputs": [],
   "source": [
    "state_dict = torch.load(pth, map_location=torch.device(\"cuda\"))\n",
    "state_dict.keys()"
   ]
  },
  {
   "cell_type": "code",
   "execution_count": null,
   "metadata": {},
   "outputs": [],
   "source": [
    "def angles_in_unit_vectors_of_matrix(matrix: torch.Tensor) -> torch.Tensor:\n",
    "    \"\"\"Find the angles between all the unit (column) vectors of a matrix.\n",
    "\n",
    "    Args:\n",
    "        matrix (torch.Tensor): Matrix of shape (N, M)\n",
    "\n",
    "    Returns:a\n",
    "        torch.Tensor: Angles in radians of shape (M, M)\n",
    "    \"\"\"\n",
    "    # Normalize columns to ensure they are unit vectors\n",
    "    normalized_matrix = matrix / matrix.norm(dim=0)\n",
    "\n",
    "    # Compute the dot product between all pairs of columns\n",
    "    dot_products = torch.matmul(normalized_matrix.t(), normalized_matrix)\n",
    "\n",
    "    # Ensure dot products are within [-1, 1] due to potential numerical issues\n",
    "    dot_products = torch.clamp(dot_products, min=-1.0, max=1.0)\n",
    "\n",
    "    # Compute the angles between columns using the arccosine function\n",
    "    angles = torch.acos(dot_products)\n",
    "\n",
    "    return angles\n",
    "\n",
    "\n",
    "def cosines_multidot(matrix: torch.Tensor) -> torch.Tensor:\n",
    "    \"\"\"Find the angles between all the unit (column) vectors of a matrix.\n",
    "\n",
    "    Args:\n",
    "        matrix (torch.Tensor): Matrix of shape (N, M)\n",
    "\n",
    "    Returns:a\n",
    "        torch.Tensor: Angles in radians of shape (M, M)\n",
    "    \"\"\"\n",
    "    # Normalize columns to ensure they are unit vectors\n",
    "    normalized_matrix = matrix / matrix.norm(dim=0)\n",
    "\n",
    "    # Compute the dot product between all pairs of columns\n",
    "    dot_products = torch.matmul(normalized_matrix.t(), normalized_matrix)\n",
    "\n",
    "    # Ensure dot products are within [-1, 1] due to potential numerical issues\n",
    "    dot_products = torch.clamp(dot_products, min=-1.0, max=1.0)\n",
    "\n",
    "    return dot_products"
   ]
  },
  {
   "cell_type": "code",
   "execution_count": null,
   "metadata": {},
   "outputs": [],
   "source": [
    "angles = angles_in_unit_vectors_of_matrix(\n",
    "    state_dict[\"layers.0.attention.wq.weight\"].to(\"cuda\", dtype=torch.float32)\n",
    ")\n",
    "angles"
   ]
  },
  {
   "cell_type": "code",
   "execution_count": null,
   "metadata": {},
   "outputs": [],
   "source": [
    "cosines = cosines_multidot(\n",
    "    state_dict[\"layers.0.attention.wq.weight\"].to(\"cuda\", dtype=torch.float32)\n",
    ")\n",
    "cosines"
   ]
  },
  {
   "cell_type": "code",
   "execution_count": null,
   "metadata": {},
   "outputs": [],
   "source": [
    "import torch\n",
    "\n",
    "\n",
    "def upper_triangle(symmetric_matrix):\n",
    "    \"\"\"\n",
    "    Extracts the upper triangle of a symmetric matrix (including the diagonal)\n",
    "    and returns a flat vector without the masked zeros.\n",
    "\n",
    "    Args:\n",
    "        symmetric_matrix (torch.Tensor): The symmetric matrix from which the upper\n",
    "            triangle (including the diagonal) will be extracted.\n",
    "\n",
    "    Returns:\n",
    "        torch.Tensor: A 1D tensor containing the upper triangle elements (including\n",
    "            the diagonal) without the masked zeros.\n",
    "    \"\"\"\n",
    "    # Use torch.triu to extract the upper triangle (including the diagonal)\n",
    "    upper_triangle = torch.triu(symmetric_matrix)\n",
    "\n",
    "    # Convert the upper triangle to a flat vector without masked zeros\n",
    "    flat_vector = upper_triangle[upper_triangle != 0]\n",
    "\n",
    "    return flat_vector"
   ]
  },
  {
   "cell_type": "code",
   "execution_count": null,
   "metadata": {},
   "outputs": [],
   "source": [
    "angledict = {}\n",
    "for k in state_dict:\n",
    "    if k.endswith(\".weight\") and k.startswith(\"layers.\"):\n",
    "        print(k)\n",
    "        angledict[k] = upper_triangle(\n",
    "            angles_in_unit_vectors_of_matrix(\n",
    "                state_dict[k].to(\"cuda\", dtype=torch.float32)\n",
    "            )\n",
    "        )"
   ]
  },
  {
   "cell_type": "code",
   "execution_count": null,
   "metadata": {},
   "outputs": [],
   "source": [
    "angledict"
   ]
  },
  {
   "cell_type": "code",
   "execution_count": null,
   "metadata": {},
   "outputs": [],
   "source": [
    "cpu_angles = angles.to(\"cpu\", dtype=torch.float32)\n",
    "cpu_cosines = cosines.to(\"cpu\", dtype=torch.float32)\n",
    "\n",
    "\n",
    "def plot_single(arr, ax):\n",
    "    a_max, a_min = arr.max().item(), arr.min().item()\n",
    "    bins = 100\n",
    "    cpu_arr = arr.to(\"cpu\", dtype=torch.float32)\n",
    "    hist = torch.histc(cpu_arr, bins=bins)\n",
    "    ax.bar(range(bins), hist)\n",
    "    ticks = ticker.FuncFormatter(\n",
    "        lambda x, pos: \"{:.2f}\".format((x / bins) * (a_max - a_min) + a_min)\n",
    "    )\n",
    "    ax.xaxis.set_major_formatter(ticks)\n",
    "\n",
    "\n",
    "plot_single()"
   ]
  }
 ],
 "metadata": {
  "language_info": {
   "name": "python"
  }
 },
 "nbformat": 4,
 "nbformat_minor": 2
}
